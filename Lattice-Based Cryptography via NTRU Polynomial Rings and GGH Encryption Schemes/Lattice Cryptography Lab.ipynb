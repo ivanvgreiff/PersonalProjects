{
 "cells": [
  {
   "cell_type": "markdown",
   "id": "ce34bc1d-3d69-42a2-a219-c4de607b764d",
   "metadata": {},
   "source": [
    "## Secret Sharing ##"
   ]
  },
  {
   "cell_type": "markdown",
   "id": "41e79549-fe40-47c1-a22a-0a94d7885297",
   "metadata": {},
   "source": [
    "### Task 1: McEliece-Sarwate Secret Sharing ###\n",
    "\n",
    "Let us consider a setting in which you need to remember a passphrase $\\mathbf{m} = (m_1,m_2,m_3,m_4) \\in \\mathbb{F}^4$. The size of each message symbol is $8$ bit. As you do not want to learn your passphrase by heart, you think of simply storing it on a USB drive. However, it may happen that you lose the drive. Therefore, you decide to employ a McEliece-Sarwate secret sharing scheme and distribute the information about your passphrase to $6$ distinct USB drives. If you lose one of the drives, a person who finds it should not be able to reconstruct your passphrase.\n",
    "\n",
    "- Which values $\\left( n,k,z \\right)$ would you use for the secret sharing scheme? Add the values in the code.\n",
    "- Which finite field $\\mathbb{F}$ is best suited to represent the message symbols? Choose a value for $\\tt{q}$ and represent the values in $\\tt{password\\_unconverted}$ as elements in $\\mathbb{F}$. Store the result in $\\tt{password}$."
   ]
  },
  {
   "cell_type": "code",
   "execution_count": 1,
   "id": "9fd59efc-af69-444e-b7a8-4c652d91bc0b",
   "metadata": {},
   "outputs": [
    {
     "name": "stdout",
     "output_type": "stream",
     "text": [
      "=== Chosen passphrase: ===\n",
      "[9, 5, 14, 6]\n"
     ]
    }
   ],
   "source": [
    "# Choose your parameters here:\n",
    "q = 2**61 -1 # your code here\n",
    "z = 1# your code here\n",
    "k = 5# your code here\n",
    "n = 6# your code here\n",
    "\n",
    "F.<x> = GF(q)\n",
    "\n",
    "# choose your password (= the message) here or keep the one provided\n",
    "password_unconverted = [9, 5, 14, 6]\n",
    "password = password_unconverted # your code here\n",
    "\n",
    "print(\"=== Chosen passphrase: ===\")\n",
    "print(password)"
   ]
  },
  {
   "cell_type": "markdown",
   "id": "0322d381-4fe8-4be3-a4e5-83cdf9fff319",
   "metadata": {},
   "source": [
    "- Implement the function $\\tt{generate\\_vandermonde(F, n, k)}$. Generate a Vandermonde matrix of size $n \\times k$ in $\\mathbb{F}$."
   ]
  },
  {
   "cell_type": "code",
   "execution_count": 2,
   "id": "7238aefe-8b5c-497d-87e7-4e755dc70d67",
   "metadata": {},
   "outputs": [],
   "source": [
    "def generate_vandermonde(F, n, k):\n",
    "    \"\"\"\n",
    "    Generate a n x k Vandermonde matrix\n",
    "    Arguments:\n",
    "        F : Finite Field\n",
    "        n, k: int\n",
    "    Returns:\n",
    "        matrix : Vandermonde matrix\n",
    "    \"\"\"\n",
    "    pass # your code here\n",
    "    G_1 = sage.matrix.special.vandermonde([Integer(i) for i in range(1,n+1)],ring=F)\n",
    "    G = G_1[:,:k]\n",
    "    \n",
    "    return G"
   ]
  },
  {
   "cell_type": "code",
   "execution_count": 3,
   "id": "2fb393f5-6bdd-46f4-9e23-2c49383705fb",
   "metadata": {},
   "outputs": [
    {
     "name": "stdout",
     "output_type": "stream",
     "text": [
      "=== Vandermonde matrix ===\n",
      "[   1    1    1    1    1]\n",
      "[   1    2    4    8   16]\n",
      "[   1    3    9   27   81]\n",
      "[   1    4   16   64  256]\n",
      "[   1    5   25  125  625]\n",
      "[   1    6   36  216 1296]\n"
     ]
    }
   ],
   "source": [
    "G = generate_vandermonde(F, n, k)\n",
    "print(\"=== Vandermonde matrix ===\")\n",
    "print(G)"
   ]
  },
  {
   "cell_type": "markdown",
   "id": "da1d99df-f3b4-4ccc-80be-954d2d085965",
   "metadata": {},
   "source": [
    "- Implement the encoding function $\\tt{encode\\_vandermonde(F, n, k, z, m, G)}$. How many random symbols have to be generated? Combine the random symbols and the message symbol in a coefficient vector $\\tt{c}$."
   ]
  },
  {
   "cell_type": "code",
   "execution_count": 4,
   "id": "b18faa67-a62b-4221-ba0c-b400e041fa37",
   "metadata": {},
   "outputs": [],
   "source": [
    "import random\n",
    "\n",
    "def encode_vandermonde(F, n, k, z, m, G):\n",
    "    \"\"\"\n",
    "    Encode the message of length k-z into a vector of n codeword symbols using\n",
    "    a Vandermonde matrix\n",
    "    Arguments:\n",
    "        F : Finite field\n",
    "        n, k, z : int\n",
    "        m : list containing message symbols\n",
    "        G : Vandermonde matrix\n",
    "    Returns:\n",
    "        list: A list containing the encoded symbols (shares)\n",
    "    \"\"\"\n",
    "    # Generate coefficients vector from z random elements and k-z message symbols\n",
    "    c = [randint(0,q-1) for i in range(z)] + m# your code here\n",
    "    c = vector(F,c)\n",
    "\n",
    "    print(\"=== Coefficient vector ===\")\n",
    "    print(c)\n",
    "\n",
    "    shares = G * c# your code here\n",
    "    \n",
    "    assert len(shares) == n, \"The number of shares is not correct\"\n",
    "\n",
    "    return shares"
   ]
  },
  {
   "cell_type": "code",
   "execution_count": 5,
   "id": "9ffec69a-5fe8-46b1-8154-b4cfeebd9870",
   "metadata": {},
   "outputs": [
    {
     "name": "stdout",
     "output_type": "stream",
     "text": [
      "=== Coefficient vector ===\n",
      "(110347058327746319, 9, 5, 14, 6)\n",
      "=== Encoding done! Stored shares: ===\n",
      "(110347058327746353, 110347058327746565, 110347058327747255, 110347058327748867, 110347058327751989, 110347058327757353)\n"
     ]
    }
   ],
   "source": [
    "# Encode the shares\n",
    "shares0 = encode_vandermonde(F, n, k, z, password, G)\n",
    "\n",
    "print(\"=== Encoding done! Stored shares: ===\")\n",
    "print(shares0)"
   ]
  },
  {
   "cell_type": "markdown",
   "id": "00627f6d-1010-422c-9f14-874d4da33b23",
   "metadata": {},
   "source": [
    "- Now we will simulate one (or more) of the devices getting lost: You receive all but $\\tt{num\\_erasures}$ of the shares and a list $\\tt{erasures}$ of the drives that were lost"
   ]
  },
  {
   "cell_type": "code",
   "execution_count": 6,
   "id": "cc8a6e5b-75bb-43c4-a447-89b2ed0ad98d",
   "metadata": {},
   "outputs": [
    {
     "name": "stdout",
     "output_type": "stream",
     "text": [
      "Drive [0] was lost!\n",
      "\n",
      "\n",
      "=== Received shares: ===\n",
      "[110347058327746565, 110347058327747255, 110347058327748867, 110347058327751989, 110347058327757353]\n"
     ]
    }
   ],
   "source": [
    "# Simply run this box, it removes the shares of one or more of the devices\n",
    "num_erasures = 1 # number of drives that gets lost\n",
    "\n",
    "import random\n",
    "erasures = random.sample(range(0, n), num_erasures)\n",
    "print(\"Drive\", erasures, \"was lost!\")\n",
    "\n",
    "received_shares = [shares0[i] for i in range(n) if i not in erasures]\n",
    "\n",
    "print(\"\\n\")\n",
    "print(\"=== Received shares: ===\")\n",
    "print(received_shares)"
   ]
  },
  {
   "cell_type": "markdown",
   "id": "7b17354c-c8aa-48a8-b3ec-56f141f040e8",
   "metadata": {},
   "source": [
    "- Implement the decoding function $\\tt{decode\\_vandermonde(F, k, z, shares, e, G)}$, which shall reconstruct the coefficient vector $\\tt{c}$ from the given shares. Extract the message symbols from $\\tt{c}$ to obtain the message $\\tt{m}$.\n",
    "*Hint*: At first, construct an effective Vandermonde matrix which represents only the rows related to the given shares. The indices of erased shares are given as a list $\\tt{erasures}$."
   ]
  },
  {
   "cell_type": "code",
   "execution_count": 7,
   "id": "dc8a99b7-5245-47e0-8f2c-17beffeac897",
   "metadata": {},
   "outputs": [],
   "source": [
    "def decode_vandermonde(F, k, z, shares, e, G):\n",
    "    \"\"\"\n",
    "    Reconstruct the message symbols from k code symbols by inversion of the Vandermonde matrix\n",
    "    Arguments:\n",
    "        F : Finite field\n",
    "        k, z : int\n",
    "        shares : list containing the shares\n",
    "        e : list, Positions of erasures\n",
    "        G : Encoding Vandermonde matrix\n",
    "    Returns:\n",
    "        list : A list containing the decoded message symbols\n",
    "    \"\"\"\n",
    "\n",
    "    pass # your code here\n",
    "    zeilen_behalten = [i for i in range(n) if i not in e]\n",
    "    G_gekuerzt = G[zeilen_behalten]\n",
    "    inv_G = G_gekuerzt.inverse()\n",
    "    mv = inv_G * vector(F,shares)\n",
    "    m = list(mv)[z:]\n",
    "    return m  # make sure m is a list and not a vector"
   ]
  },
  {
   "cell_type": "code",
   "execution_count": 8,
   "id": "574907a3-9fa2-498d-9051-f1c47b22b3ec",
   "metadata": {},
   "outputs": [
    {
     "name": "stdout",
     "output_type": "stream",
     "text": [
      "=== Reconstructed password: ===\n",
      "[9, 5, 14, 6]\n",
      "Correct!\n"
     ]
    }
   ],
   "source": [
    "# Reconstruct the password from the retained drives\n",
    "password_reconstructed = decode_vandermonde(F, k, z, received_shares, erasures, G)\n",
    "print(\"=== Reconstructed password: ===\")\n",
    "print(password_reconstructed)\n",
    "\n",
    "assert password_reconstructed == password, 'Password was not restored correctly.'\n",
    "print('Correct!')"
   ]
  },
  {
   "cell_type": "markdown",
   "id": "353478cd-ff45-4ec7-ae4c-bece7829341c",
   "metadata": {},
   "source": [
    "#### Key Notes for Task 1: ####\n",
    "- Explain your choice of parameters n, k, z and what meaning they have in the context of our problem. Were other choices possible?\n",
    "  \n",
    "N and z were both given in the task, I could not change them. They mean that we split our password in $n=6$ shares and if $z=1$ shares get leaked, no information can be retrieved with only $z=1$ shares. Since we want to protect 4 message symbols, $k-z=k-1=4$ -> $k=5$\n",
    "  \n",
    "- Could we also have used Shamir's secret sharing in this setting? If yes, how would the parameters differ?\n",
    "\n",
    "Shamir's Secret scheme protects one symbol of information. We need to protect 4, so no, we cannot use SSSS here.\n",
    "\n",
    "- So far, we've only considered secret sharings in which all parties are honest. If one of the devices were corrupted, i.e., sending the wrong shares when queried, would we retain our (n,k,z)-secret sharing? If no, which parameter changes? Can you as the dealer figure out which device is corrupted?\n",
    "\n",
    "If I get shares to reconstruct the secret and one share is garbage, the overall result will be garbage, the secret cannot be reconstructed anymore."
   ]
  },
  {
   "cell_type": "markdown",
   "id": "1878fc5f-0d0b-4ce4-b745-8720a3e73547",
   "metadata": {},
   "source": [
    "### Task 2: Threshold-Changeable Secret Sharing\n",
    "\n",
    "As discussed in the tutorial, it is possible to create secret sharing schemes that can change the recovery threshold $k$ and the security threshold $z$ by converting the user's shares locally. **Folding** is one method how to construct such a threshold-changeable secret sharing scheme. In this task, you are asked to implement such a scheme. The secret sharing scheme shall encode the message $\\mathbf{m}$, which is already given in the code template.\n",
    "\n",
    "- First, create a $(18,12,6)$ McEliece-Sarwate secret sharing using your implementation from Task 1. Store the shares in the list $\\tt{shares0}$."
   ]
  },
  {
   "cell_type": "code",
   "execution_count": 9,
   "id": "f39f4923-4ee9-4100-8843-3fc1933edb96",
   "metadata": {},
   "outputs": [
    {
     "name": "stdout",
     "output_type": "stream",
     "text": [
      "=== Secret message: ===\n",
      "[1, 2, 3, 4, 5, 6]\n",
      "=== Coefficient vector ===\n",
      "(903091802757025808, 1973864888687788196, 1706703474078970559, 1854761414509883850, 964843254119694890, 1649162490795147289, 1, 2, 3, 4, 5, 6)\n",
      "=== Initial shares: ===\n",
      "(2134898297307428760, 186855186125955277, 65885572142674050, 1459034752701960858, 636313332023097893, 1576912371381435929, 1731145440897600310, 840820771546340608, 536241389146330077, 1627362278167518676, 1394947619476410732, 105100195455179687, 606261985151813152, 1008686078257359308, 1198967174756869333, 131200833304634265, 35672878300364998, 1404178359105220634)\n"
     ]
    }
   ],
   "source": [
    "# Parameter definitions\n",
    "n0 = 18\n",
    "k0 = 12\n",
    "z0 = 6\n",
    "F = GF(q)\n",
    "\n",
    "m = [F(1), F(2), F(3), F(4), F(5), F(6)]\n",
    "print(\"=== Secret message: ===\")\n",
    "print(m)\n",
    "\n",
    "# 2.1: Generation of the initial secret sharing: Encode m into n0 shares using your implementation from part 1\n",
    "\n",
    "G = generate_vandermonde(F, n0, k0)\n",
    "shares0 = encode_vandermonde(F, n0, k0, z0, m, G)# your code here\n",
    "\n",
    "print(\"=== Initial shares: ===\")\n",
    "print(shares0)"
   ]
  },
  {
   "cell_type": "markdown",
   "id": "9f7bb0b4-b5cd-40aa-9251-57e7fcf800b4",
   "metadata": {},
   "source": [
    "- Create $n=6$ shares by folding $v=3$ of the original shares into lists of size $3$, respectively. Implement the function $\\tt{fold(F,v,shares)}$. Store the new shares in the list $\\tt{shares1}$ (which is then a list of lists, **do not concatenate**). The new shares establish a $(6,4,2)$ secret sharing scheme."
   ]
  },
  {
   "cell_type": "code",
   "execution_count": 10,
   "id": "e87044f6-5ebb-4c6c-b533-a0a8834d4c4f",
   "metadata": {},
   "outputs": [
    {
     "name": "stdout",
     "output_type": "stream",
     "text": [
      "Folding shares...\n",
      "=== New shares: ===\n",
      "[[2134898297307428760, 186855186125955277, 65885572142674050], [1459034752701960858, 636313332023097893, 1576912371381435929], [1731145440897600310, 840820771546340608, 536241389146330077], [1627362278167518676, 1394947619476410732, 105100195455179687], [606261985151813152, 1008686078257359308, 1198967174756869333], [131200833304634265, 35672878300364998, 1404178359105220634]]\n"
     ]
    }
   ],
   "source": [
    "v = 3\n",
    "\n",
    "def fold(F, v, shares):\n",
    "    \"\"\"\n",
    "    Fold v shares from a list of n shares into a new list of n/v shares.\n",
    "    Arguments:\n",
    "        F : Finite field\n",
    "        v : int\n",
    "        shares : list of shares to fold\n",
    "    Returns:\n",
    "        new_shares : A list of new shares, each of which is a list of size v\n",
    "    \"\"\"\n",
    "    assert (len(shares) % v) == 0, \"The number v of shares to fold must devide the total number of shares\"\n",
    "    \n",
    "    new_shares = []\n",
    "    anzahl_paare = ceil(len(shares)/v)\n",
    "    for i in range(anzahl_paare):\n",
    "        new_shares.append(list())\n",
    "\n",
    "    #print(len(shares))\n",
    "    for i in range(len(shares)):\n",
    "        ganzzahl_div = i // v\n",
    "        #print(ganzzahl_div)\n",
    "        new_shares[ganzzahl_div].append(shares[i])\n",
    "\n",
    "    # your code here\n",
    "    \n",
    "    return new_shares\n",
    "\n",
    "print(\"Folding shares...\")\n",
    "shares1 = fold(F, v, shares0)\n",
    "print(\"=== New shares: ===\")\n",
    "print(shares1)"
   ]
  },
  {
   "cell_type": "markdown",
   "id": "2818169a-798a-41de-be13-6e21cdd1123c",
   "metadata": {},
   "source": [
    "- Complete the implementation of the function $\\tt{collect\\_and\\_decode()}$. It should read the devices sequentially, and try to decode the secret message from as few devices as possible. How many devices does one have to read until successful decoding of the message?"
   ]
  },
  {
   "cell_type": "code",
   "execution_count": 11,
   "id": "b1b09d91-c2d2-4617-9dcd-f646fb8c317c",
   "metadata": {},
   "outputs": [
    {
     "name": "stdout",
     "output_type": "stream",
     "text": [
      "Collecting shares:\n",
      "\n",
      "Device no. 1\n",
      "Device no. 2\n",
      "Device no. 3\n",
      "Device no. 4\n",
      "message successfully decoded from 4 devices!\n"
     ]
    }
   ],
   "source": [
    "def collect_and_decode(F, k0, z0, v, devices, G):\n",
    "    \"\"\"\n",
    "    Collect shares until decoding is possible. Raises an exception if decoding fails completely.\n",
    "    Arguments:\n",
    "        F : Finite field\n",
    "        k0, z0, v : int\n",
    "        devices : A list of lists containing the devices' shares\n",
    "        G : Encoding Vandermonde matrix\n",
    "    Returns:\n",
    "        secret: A list containing the decoded message symbols\n",
    "        devices_needed: An integer representing the number of devices that were read\n",
    "    \"\"\"\n",
    "    print(\"Collecting shares:\\n\")\n",
    "    decodable = False\n",
    "    for i, d in enumerate(devices): \n",
    "        \n",
    "        print(\"Device no.\", i+1)\n",
    "        pass # your code here, try to decode with only the devices read so far (first with one, then with two, three, ..., until decoding is possible)\n",
    "        if v * (i+1) >= k0:\n",
    "            received_shares = [\n",
    "                x\n",
    "                for xs in devices[:(i+1)]\n",
    "                for x in xs\n",
    "            ]\n",
    "            decodable = True\n",
    "            erasures = [i for i in range(len(received_shares),len(devices)*v)]\n",
    "            if v == 2:\n",
    "                erasures = [i for i in range(2,(v+1)*len(devices),3)]\n",
    "                #print(erasures)\n",
    "                #return\n",
    "                \n",
    "            #print(erasures)\n",
    "            break\n",
    "    if decodable:\n",
    "        #print(k0)\n",
    "        #print(z0)\n",
    "        #print(received_shares)\n",
    "        #print(erasures)\n",
    "        #print(G)\n",
    "        password_reconstructed = decode_vandermonde(F, k0, z0, received_shares, erasures, G)\n",
    "        return password_reconstructed, (i+1)\n",
    "        \n",
    "    raise Exception(\"Could not decode from the given %d shares\" % len(devices))\n",
    "    \n",
    "n = n0\n",
    "m_reconstructed, num_devices = collect_and_decode(F, k0, z0, v, shares1, G)\n",
    "assert m == m_reconstructed, \"message was not correctly reconstructed\"\n",
    "print('message successfully decoded from', num_devices, 'devices!')"
   ]
  },
  {
   "cell_type": "markdown",
   "id": "fa9e9981-78de-4968-bfd5-23faae35dab2",
   "metadata": {},
   "source": [
    "- Complete the function $\\tt{share\\_conversion()}$ which simply removes the last element of a local share. Use this function on every share in the $\\tt{shares1}$ list. Run $\\tt{collect\\_and\\_decode()}$ again (make sure that it handles the different length of the share vectors correctly!). How many devices does one have to read now?"
   ]
  },
  {
   "cell_type": "code",
   "execution_count": 12,
   "id": "4453a377-5b8a-4a34-8746-457d8f68e249",
   "metadata": {},
   "outputs": [
    {
     "name": "stdout",
     "output_type": "stream",
     "text": [
      "[[2134898297307428760, 186855186125955277], [1459034752701960858, 636313332023097893], [1731145440897600310, 840820771546340608], [1627362278167518676, 1394947619476410732], [606261985151813152, 1008686078257359308], [131200833304634265, 35672878300364998]]\n",
      "\n",
      "\n",
      "=== Collecting shares and trying to decode after share conversion: ===\n",
      "Collecting shares:\n",
      "\n",
      "Device no. 1\n",
      "Device no. 2\n",
      "Device no. 3\n",
      "Device no. 4\n",
      "Device no. 5\n",
      "Device no. 6\n",
      "message successfully decoded from 6 devices!\n"
     ]
    }
   ],
   "source": [
    "# 2.4: Share conversion\n",
    "def share_conversion(share):\n",
    "    shorter_share = [share[i] for i in range(len(share)-1)]# your code here\n",
    "    return shorter_share\n",
    "\n",
    "# apply to each share in shares1\n",
    "shortened_shares = [share_conversion(share) for share in shares1]# your code here\n",
    "print(shortened_shares)\n",
    "print(\"\\n\")\n",
    "print(\"=== Collecting shares and trying to decode after share conversion: ===\")\n",
    "m_reconstructed, num_devices = collect_and_decode(F, k0, z0, v-1, shortened_shares, G)\n",
    "\n",
    "assert m == m_reconstructed, \"message was not correctly reconstructed\"\n",
    "print('message successfully decoded from', num_devices, 'devices!')"
   ]
  },
  {
   "cell_type": "markdown",
   "id": "9f6c1f32-3894-452a-9c75-b9ff764b0e71",
   "metadata": {},
   "source": [
    "#### Key Notes for Task 2: ####\n",
    "- in the final subtask, we deleted the last element of each device's share. Does the scheme still work if we delete a different element from each device in the 'folded' secret sharing?\n",
    "\n",
    "It does if the decode function knows exactly which shares have been removed. If the decoding schemes assumes we deleted the last share from all folded shares and we instead did delete something else, it is broken.\n",
    "- What are the parameters of our final secret sharing after the removal of one element from each share in $\\tt{shares1}$?\n",
    "\n",
    "$n=6$ because we have (originally) pairs of $3$ shares. If we then discard one share from every share-triple, $k=6$ because $k_0=12$ and every former triple now contains $2$ shares. $z_0 = 6$, after putting shares into pairs of $2$, the new $z=3$."
   ]
  },
  {
   "cell_type": "code",
   "execution_count": null,
   "id": "1e890fe3-1e1a-41f1-8e52-40676736a681",
   "metadata": {},
   "outputs": [],
   "source": []
  }
 ],
 "metadata": {
  "kernelspec": {
   "display_name": "SageMath 10.4",
   "language": "sage",
   "name": "sagemath"
  },
  "language_info": {
   "codemirror_mode": {
    "name": "ipython",
    "version": 3
   },
   "file_extension": ".py",
   "mimetype": "text/x-python",
   "name": "python",
   "nbconvert_exporter": "python",
   "pygments_lexer": "ipython3",
   "version": "3.11.11"
  }
 },
 "nbformat": 4,
 "nbformat_minor": 5
}
